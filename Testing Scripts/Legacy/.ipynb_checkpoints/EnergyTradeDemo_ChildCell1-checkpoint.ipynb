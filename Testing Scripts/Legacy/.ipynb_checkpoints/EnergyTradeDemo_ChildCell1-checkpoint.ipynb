{
 "cells": [
  {
   "cell_type": "code",
   "execution_count": 1,
   "metadata": {
    "collapsed": true
   },
   "outputs": [],
   "source": [
    "# coding: utf-8\n",
    "\n",
    "import json\n",
    "import time\n",
    "import datetime\n",
    "import requests\n",
    "import math\n",
    "import random\n",
    "\n",
    "from web3 import Web3, KeepAliveRPCProvider, IPCProvider, HTTPProvider"
   ]
  },
  {
   "cell_type": "code",
   "execution_count": 2,
   "metadata": {
    "collapsed": true
   },
   "outputs": [],
   "source": [
    "web3 = Web3(HTTPProvider(\"http://127.0.0.1:8545\", request_kwargs={'timeout': 600}))\n",
    "\n",
    "coinbase = web3.eth.coinbase\n",
    "web3.eth.defaultBlock = \"latest\"\n",
    "transaction = {'from': coinbase}"
   ]
  },
  {
   "cell_type": "code",
   "execution_count": 4,
   "metadata": {
    "collapsed": true
   },
   "outputs": [],
   "source": [
    "# define the adress, ABI (with parsing from str to JSON) and define the contract object\n",
    "Oliorigin_address = '0x003a38d4731fc56ccf39991a12773b8b1d85a253'\n",
    "Oliorigin_abi_str  = '[{\"constant\":true,\"inputs\":[{\"name\":\"_account\",\"type\":\"address\"}],\"name\":\"get_oliType\",\"outputs\":[{\"name\":\"\",\"type\":\"uint8\"}],\"payable\":false,\"stateMutability\":\"view\",\"type\":\"function\"},{\"constant\":true,\"inputs\":[{\"name\":\"_account\",\"type\":\"address\"}],\"name\":\"get_oliCkt\",\"outputs\":[{\"name\":\"\",\"type\":\"uint8\"}],\"payable\":false,\"stateMutability\":\"view\",\"type\":\"function\"},{\"constant\":false,\"inputs\":[],\"name\":\"kill\",\"outputs\":[],\"payable\":false,\"stateMutability\":\"nonpayable\",\"type\":\"function\"},{\"constant\":true,\"inputs\":[{\"name\":\"_account\",\"type\":\"address\"}],\"name\":\"get_oliTrafoid\",\"outputs\":[{\"name\":\"\",\"type\":\"uint32\"}],\"payable\":false,\"stateMutability\":\"view\",\"type\":\"function\"},{\"constant\":true,\"inputs\":[{\"name\":\"_tid\",\"type\":\"uint32\"}],\"name\":\"get_gsoAddr\",\"outputs\":[{\"name\":\"\",\"type\":\"address\"}],\"payable\":false,\"stateMutability\":\"view\",\"type\":\"function\"},{\"constant\":true,\"inputs\":[{\"name\":\"_account\",\"type\":\"address\"},{\"name\":\"_index\",\"type\":\"uint8\"}],\"name\":\"get_oliPeakLoad\",\"outputs\":[{\"name\":\"\",\"type\":\"uint16\"}],\"payable\":false,\"stateMutability\":\"view\",\"type\":\"function\"},{\"constant\":false,\"inputs\":[{\"name\":\"oli\",\"type\":\"address\"},{\"name\":\"lat\",\"type\":\"uint32\"},{\"name\":\"long\",\"type\":\"uint32\"},{\"name\":\"trafo\",\"type\":\"uint32\"},{\"name\":\"ckt\",\"type\":\"uint8\"},{\"name\":\"typex\",\"type\":\"uint8\"},{\"name\":\"pload\",\"type\":\"uint16[]\"}],\"name\":\"addOli\",\"outputs\":[],\"payable\":false,\"stateMutability\":\"nonpayable\",\"type\":\"function\"},{\"anonymous\":false,\"inputs\":[{\"indexed\":false,\"name\":\"paymentAddress\",\"type\":\"address\"},{\"indexed\":false,\"name\":\"latOfLocation\",\"type\":\"uint32\"},{\"indexed\":false,\"name\":\"longOfLocation\",\"type\":\"uint32\"}],\"name\":\"newAddedOli\",\"type\":\"event\"}]'\n",
    "Oliorigin_abi      = json.loads(Oliorigin_abi_str)\n",
    "Oliorigin_contract = web3.eth.contract(abi=Oliorigin_abi,address=Oliorigin_address)"
   ]
  },
  {
   "cell_type": "code",
   "execution_count": 4,
   "metadata": {
    "collapsed": true
   },
   "outputs": [],
   "source": [
    "# define the adress, ABI (with parsing from str to JSON) and define the contract object\n",
    "Olicoin_address = '0x9b18b1509c6f12eaaf8c7d91b76cd8c8d1950467'\n",
    "Olicoin_abi_str  = '[{\"constant\":false,\"inputs\":[],\"name\":\"kill\",\"outputs\":[],\"payable\":false,\"stateMutability\":\"nonpayable\",\"type\":\"function\"},{\"constant\":true,\"inputs\":[{\"name\":\"caddress\",\"type\":\"address\"}],\"name\":\"get_coinBalance\",\"outputs\":[{\"name\":\"\",\"type\":\"int32\"}],\"payable\":false,\"stateMutability\":\"view\",\"type\":\"function\"},{\"constant\":false,\"inputs\":[{\"name\":\"_contract\",\"type\":\"address\"},{\"name\":\"_tf\",\"type\":\"bool\"}],\"name\":\"set_ContractAddress\",\"outputs\":[],\"payable\":false,\"stateMutability\":\"nonpayable\",\"type\":\"function\"},{\"constant\":false,\"inputs\":[{\"name\":\"_account\",\"type\":\"address\"},{\"name\":\"_change\",\"type\":\"int32\"}],\"name\":\"set_OliCoinBalance\",\"outputs\":[],\"payable\":false,\"stateMutability\":\"nonpayable\",\"type\":\"function\"},{\"constant\":false,\"inputs\":[{\"name\":\"_to\",\"type\":\"address\"},{\"name\":\"_amount\",\"type\":\"uint16\"}],\"name\":\"transfer\",\"outputs\":[{\"name\":\"success\",\"type\":\"bool\"}],\"payable\":false,\"stateMutability\":\"nonpayable\",\"type\":\"function\"},{\"anonymous\":false,\"inputs\":[{\"indexed\":true,\"name\":\"_from\",\"type\":\"address\"},{\"indexed\":true,\"name\":\"_to\",\"type\":\"address\"},{\"indexed\":false,\"name\":\"_value\",\"type\":\"uint16\"}],\"name\":\"Transfer\",\"type\":\"event\"}]'\n",
    "Olicoin_abi      = json.loads(Olicoin_abi_str)\n",
    "Olicoin_contract = web3.eth.contract(abi=Olicoin_abi,address=Olicoin_address)"
   ]
  },
  {
   "cell_type": "code",
   "execution_count": 5,
   "metadata": {
    "collapsed": true
   },
   "outputs": [],
   "source": [
    "# define the adress, ABI (with parsing from str to JSON) and define the contract object\n",
    "Olibilateral_address = '0x642ad95fa0b08913f8bf941eb5d8667d781eb232'\n",
    "Olibilateral_abi_str  = '[{\"constant\":false,\"inputs\":[{\"name\":\"addr\",\"type\":\"address\"}],\"name\":\"setOliOrigin\",\"outputs\":[],\"payable\":false,\"stateMutability\":\"nonpayable\",\"type\":\"function\"},{\"constant\":false,\"inputs\":[{\"name\":\"_stock\",\"type\":\"address\"},{\"name\":\"_rate\",\"type\":\"uint8\"}],\"name\":\"stockBidding\",\"outputs\":[],\"payable\":false,\"stateMutability\":\"nonpayable\",\"type\":\"function\"},{\"constant\":true,\"inputs\":[{\"name\":\"_stock\",\"type\":\"address\"}],\"name\":\"get_stockAmount\",\"outputs\":[{\"name\":\"\",\"type\":\"uint16\"}],\"payable\":false,\"stateMutability\":\"view\",\"type\":\"function\"},{\"constant\":false,\"inputs\":[],\"name\":\"kill\",\"outputs\":[],\"payable\":false,\"stateMutability\":\"nonpayable\",\"type\":\"function\"},{\"constant\":false,\"inputs\":[{\"name\":\"_amount\",\"type\":\"uint16\"},{\"name\":\"_rate\",\"type\":\"uint8\"},{\"name\":\"_period\",\"type\":\"uint32\"},{\"name\":\"_btime\",\"type\":\"uint32\"}],\"name\":\"regStock\",\"outputs\":[],\"payable\":false,\"stateMutability\":\"nonpayable\",\"type\":\"function\"},{\"constant\":true,\"inputs\":[{\"name\":\"_stock\",\"type\":\"address\"}],\"name\":\"get_stockBidder\",\"outputs\":[{\"name\":\"\",\"type\":\"address\"}],\"payable\":false,\"stateMutability\":\"view\",\"type\":\"function\"},{\"constant\":true,\"inputs\":[{\"name\":\"_stock\",\"type\":\"address\"}],\"name\":\"get_stockRate\",\"outputs\":[{\"name\":\"\",\"type\":\"uint8\"}],\"payable\":false,\"stateMutability\":\"view\",\"type\":\"function\"},{\"anonymous\":false,\"inputs\":[{\"indexed\":false,\"name\":\"saccount\",\"type\":\"address\"},{\"indexed\":false,\"name\":\"samount\",\"type\":\"uint16\"},{\"indexed\":false,\"name\":\"smrate\",\"type\":\"uint8\"},{\"indexed\":false,\"name\":\"speriod\",\"type\":\"uint32\"},{\"indexed\":false,\"name\":\"sbiddingTime\",\"type\":\"uint32\"}],\"name\":\"NewStock\",\"type\":\"event\"},{\"anonymous\":false,\"inputs\":[{\"indexed\":false,\"name\":\"baccount\",\"type\":\"address\"},{\"indexed\":false,\"name\":\"bmrate\",\"type\":\"uint8\"}],\"name\":\"NewStockBid\",\"type\":\"event\"}]'\n",
    "Olibilateral_abi      = json.loads(Olibilateral_abi_str)\n",
    "Olibilateral_contract = web3.eth.contract(abi=Olibilateral_abi,address=Olibilateral_address)"
   ]
  },
  {
   "cell_type": "code",
   "execution_count": 6,
   "metadata": {
    "collapsed": true
   },
   "outputs": [],
   "source": [
    "# define the adress, ABI (with parsing from str to JSON) and define the contract object\n",
    "Olidaughter_address = '0xb3cddc8da3ac6b1a348006cafe6fc39e4fde8442'\n",
    "Olidaughter_abi_str  = '[{\"constant\":false,\"inputs\":[{\"name\":\"addr\",\"type\":\"address\"}],\"name\":\"setOliOrigin\",\"outputs\":[],\"payable\":false,\"stateMutability\":\"nonpayable\",\"type\":\"function\"},{\"constant\":false,\"inputs\":[{\"name\":\"_amount\",\"type\":\"uint16\"},{\"name\":\"_rate\",\"type\":\"uint8\"}],\"name\":\"bid\",\"outputs\":[],\"payable\":false,\"stateMutability\":\"nonpayable\",\"type\":\"function\"},{\"constant\":false,\"inputs\":[{\"name\":\"addr\",\"type\":\"address\"}],\"name\":\"setBilateralTrading\",\"outputs\":[],\"payable\":false,\"stateMutability\":\"nonpayable\",\"type\":\"function\"},{\"constant\":false,\"inputs\":[{\"name\":\"addr\",\"type\":\"address\"}],\"name\":\"setOliCoin\",\"outputs\":[],\"payable\":false,\"stateMutability\":\"nonpayable\",\"type\":\"function\"},{\"constant\":false,\"inputs\":[{\"name\":\"addr\",\"type\":\"address\"}],\"name\":\"setDynamicGridFee\",\"outputs\":[],\"payable\":false,\"stateMutability\":\"nonpayable\",\"type\":\"function\"},{\"constant\":false,\"inputs\":[],\"name\":\"kill\",\"outputs\":[],\"payable\":false,\"stateMutability\":\"nonpayable\",\"type\":\"function\"},{\"constant\":false,\"inputs\":[],\"name\":\"resett\",\"outputs\":[],\"payable\":false,\"stateMutability\":\"nonpayable\",\"type\":\"function\"},{\"constant\":true,\"inputs\":[],\"name\":\"get_producer\",\"outputs\":[{\"name\":\"\",\"type\":\"address[]\"}],\"payable\":false,\"stateMutability\":\"view\",\"type\":\"function\"},{\"constant\":true,\"inputs\":[{\"name\":\"_rate\",\"type\":\"uint8\"}],\"name\":\"get_sRate\",\"outputs\":[{\"name\":\"\",\"type\":\"uint16\"}],\"payable\":false,\"stateMutability\":\"view\",\"type\":\"function\"},{\"constant\":true,\"inputs\":[],\"name\":\"get_consumer\",\"outputs\":[{\"name\":\"\",\"type\":\"address[]\"}],\"payable\":false,\"stateMutability\":\"view\",\"type\":\"function\"},{\"constant\":true,\"inputs\":[{\"name\":\"_rate\",\"type\":\"uint8\"}],\"name\":\"get_dRate\",\"outputs\":[{\"name\":\"\",\"type\":\"uint16\"}],\"payable\":false,\"stateMutability\":\"view\",\"type\":\"function\"},{\"constant\":true,\"inputs\":[],\"name\":\"maxRate\",\"outputs\":[{\"name\":\"\",\"type\":\"uint8\"}],\"payable\":false,\"stateMutability\":\"view\",\"type\":\"function\"},{\"constant\":false,\"inputs\":[],\"name\":\"breakEven\",\"outputs\":[],\"payable\":false,\"stateMutability\":\"nonpayable\",\"type\":\"function\"},{\"inputs\":[],\"payable\":false,\"stateMutability\":\"nonpayable\",\"type\":\"constructor\"},{\"anonymous\":false,\"inputs\":[{\"indexed\":true,\"name\":\"gaddr\",\"type\":\"address\"},{\"indexed\":false,\"name\":\"grate\",\"type\":\"uint8\"},{\"indexed\":false,\"name\":\"gamount\",\"type\":\"uint16\"}],\"name\":\"NewGenBid\",\"type\":\"event\"},{\"anonymous\":false,\"inputs\":[{\"indexed\":true,\"name\":\"caddr\",\"type\":\"address\"},{\"indexed\":false,\"name\":\"crate\",\"type\":\"uint8\"},{\"indexed\":false,\"name\":\"camount\",\"type\":\"uint16\"}],\"name\":\"NewConBid\",\"type\":\"event\"},{\"anonymous\":false,\"inputs\":[{\"indexed\":false,\"name\":\"cbid\",\"type\":\"uint8\"}],\"name\":\"NewMcp\",\"type\":\"event\"}]'\n",
    "Olidaughter_abi      = json.loads(Olidaughter_abi_str)\n",
    "Olidaughter_contract = web3.eth.contract(abi=Olidaughter_abi,address=Olidaughter_address)"
   ]
  },
  {
   "cell_type": "code",
   "execution_count": 17,
   "metadata": {
    "collapsed": true
   },
   "outputs": [],
   "source": [
    "# define the adress, ABI (with parsing from str to JSON) and define the contract object\n",
    "DynamicGridFee_address = '0xf1f27101f0d9ac46d347205f2aa16cf0249936b2'\n",
    "DynamicGridFee_abi_str  = '[{\"constant\":true,\"inputs\":[{\"name\":\"_tid\",\"type\":\"uint32\"},{\"name\":\"_index\",\"type\":\"uint8\"}],\"name\":\"get_gridFee\",\"outputs\":[{\"name\":\"\",\"type\":\"uint8\"}],\"payable\":false,\"stateMutability\":\"view\",\"type\":\"function\"},{\"constant\":false,\"inputs\":[{\"name\":\"_addr\",\"type\":\"address\"},{\"name\":\"_amount\",\"type\":\"uint16\"}],\"name\":\"set_trafocamount\",\"outputs\":[],\"payable\":false,\"stateMutability\":\"nonpayable\",\"type\":\"function\"},{\"constant\":false,\"inputs\":[{\"name\":\"addr\",\"type\":\"address\"}],\"name\":\"setOliOrigin\",\"outputs\":[],\"payable\":false,\"stateMutability\":\"nonpayable\",\"type\":\"function\"},{\"constant\":false,\"inputs\":[{\"name\":\"_addr\",\"type\":\"address\"},{\"name\":\"_amount\",\"type\":\"uint16\"}],\"name\":\"set_cktcamount\",\"outputs\":[],\"payable\":false,\"stateMutability\":\"nonpayable\",\"type\":\"function\"},{\"constant\":false,\"inputs\":[],\"name\":\"kill\",\"outputs\":[],\"payable\":false,\"stateMutability\":\"nonpayable\",\"type\":\"function\"},{\"constant\":false,\"inputs\":[{\"name\":\"_tid\",\"type\":\"uint32\"}],\"name\":\"set_tgridFee\",\"outputs\":[],\"payable\":false,\"stateMutability\":\"nonpayable\",\"type\":\"function\"},{\"constant\":true,\"inputs\":[{\"name\":\"_tid\",\"type\":\"uint32\"},{\"name\":\"_index\",\"type\":\"uint8\"}],\"name\":\"get_cktAmount\",\"outputs\":[{\"name\":\"\",\"type\":\"int16\"}],\"payable\":false,\"stateMutability\":\"view\",\"type\":\"function\"},{\"constant\":true,\"inputs\":[{\"name\":\"_addr\",\"type\":\"address\"}],\"name\":\"get_tGFee\",\"outputs\":[{\"name\":\"\",\"type\":\"uint8\"}],\"payable\":false,\"stateMutability\":\"view\",\"type\":\"function\"},{\"constant\":false,\"inputs\":[{\"name\":\"_address\",\"type\":\"address\"},{\"name\":\"_fee\",\"type\":\"uint8[]\"}],\"name\":\"set_minmaxgfee\",\"outputs\":[],\"payable\":false,\"stateMutability\":\"nonpayable\",\"type\":\"function\"},{\"constant\":false,\"inputs\":[{\"name\":\"_addr\",\"type\":\"address\"},{\"name\":\"_amount\",\"type\":\"uint16\"}],\"name\":\"set_traforamount\",\"outputs\":[],\"payable\":false,\"stateMutability\":\"nonpayable\",\"type\":\"function\"},{\"constant\":true,\"inputs\":[{\"name\":\"_addr\",\"type\":\"address\"}],\"name\":\"get_dGFee\",\"outputs\":[{\"name\":\"\",\"type\":\"uint8\"}],\"payable\":false,\"stateMutability\":\"view\",\"type\":\"function\"},{\"constant\":false,\"inputs\":[{\"name\":\"_tid\",\"type\":\"uint32\"}],\"name\":\"set_dgridFee\",\"outputs\":[],\"payable\":false,\"stateMutability\":\"nonpayable\",\"type\":\"function\"},{\"constant\":false,\"inputs\":[{\"name\":\"_addr\",\"type\":\"address\"},{\"name\":\"_amount\",\"type\":\"uint64\"}],\"name\":\"set_cktramount\",\"outputs\":[],\"payable\":false,\"stateMutability\":\"nonpayable\",\"type\":\"function\"},{\"constant\":true,\"inputs\":[{\"name\":\"_addr\",\"type\":\"address\"}],\"name\":\"get_trafoAmount\",\"outputs\":[{\"name\":\"\",\"type\":\"int16\"}],\"payable\":false,\"stateMutability\":\"view\",\"type\":\"function\"}]'\n",
    "DynamicGridFee_abi      = json.loads(DynamicGridFee_abi_str)\n",
    "DynamicGridFee_contract = web3.eth.contract(abi=DynamicGridFee_abi,address=DynamicGridFee_address)"
   ]
  },
  {
   "cell_type": "code",
   "execution_count": 18,
   "metadata": {
    "collapsed": true
   },
   "outputs": [],
   "source": [
    "account_0=web3.eth.accounts[0]\n",
    "account_1=web3.eth.accounts[1]\n",
    "account_2=web3.eth.accounts[2]\n",
    "account_3=web3.eth.accounts[3]\n",
    "account_4=web3.eth.accounts[4]\n",
    "account_5=web3.eth.accounts[5]\n",
    "account_6=web3.eth.accounts[6]\n",
    "account_7=web3.eth.accounts[7]\n",
    "account_8=web3.eth.accounts[8]\n",
    "account_9=web3.eth.accounts[9]\n",
    "account_10=web3.eth.accounts[10]\n",
    "account_11=web3.eth.accounts[11]\n",
    "account_12=web3.eth.accounts[12]\n",
    "account_13=web3.eth.accounts[13]\n",
    "account_14=web3.eth.accounts[14]\n",
    "account_15=web3.eth.accounts[15]\n",
    "account_16=web3.eth.accounts[16]\n",
    "account_17=web3.eth.accounts[17]\n",
    "account_18=web3.eth.accounts[18]\n",
    "account_19=web3.eth.accounts[19]\n",
    "account_20=web3.eth.accounts[20]\n",
    "account_21=web3.eth.accounts[21]\n",
    "account_22=web3.eth.accounts[22]"
   ]
  },
  {
   "cell_type": "code",
   "execution_count": 53,
   "metadata": {
    "scrolled": true
   },
   "outputs": [
    {
     "data": {
      "text/plain": [
       "'0x8cc4765677ba2bcc73aa566289839b0114ad8242935e82139022650a6e08f43d'"
      ]
     },
     "execution_count": 53,
     "metadata": {},
     "output_type": "execute_result"
    }
   ],
   "source": [
    "#Register OLIs\n",
    "\n",
    "web3.personal.unlockAccount(coinbase, 'felixfaizan')\n",
    "\n",
    "Oliorigin_contract.transact({'from': coinbase}).addOli(account_1, int(49.30e4), int(8.35e4), 67376, 0, 0, [1000])\n",
    "Oliorigin_contract.transact({'from': coinbase}).addOli(account_2, int(48.39e4), int(9.97e4), 67376, 1, 3, [1000])\n",
    "Oliorigin_contract.transact({'from': coinbase}).addOli(account_3, int(48.77e4), int(9.16e4), 67376, 0, 5, [1000])\n",
    "Oliorigin_contract.transact({'from': coinbase}).addOli(account_4, int(49.40e4), int(8.67e4), 67376, 1, 0, [1000])\n",
    "Oliorigin_contract.transact({'from': coinbase}).addOli(account_5, int(48.89e4), int(9.20e4), 67376, 0, 5, [1000])\n",
    "\n",
    "\n",
    "Oliorigin_contract.transact({'from': coinbase}).addOli(account_6, int(48.62e4), int(9.83e4), 67376, 0, 6, [1000])\n",
    "Oliorigin_contract.transact({'from': coinbase}).addOli(account_7, int(48.00e4), int(7.84e4), 67376, 1, 6, [1000])\n",
    "Oliorigin_contract.transact({'from': coinbase}).addOli(account_8, int(49.49e4), int(8.47e4), 67376, 0, 7, [1000])\n",
    "Oliorigin_contract.transact({'from': coinbase}).addOli(account_9, int(49.32e4), int(8.44e4), 67376, 1, 7, [1000])\n",
    "Oliorigin_contract.transact({'from': coinbase}).addOli(account_10, int(48.41e4), int(10.00e4), 67376, 0, 7, [1000])\n",
    "\n",
    "\n",
    "Oliorigin_contract.transact({'from': coinbase}).addOli(account_11, int(48.69e4), int(9.21e4), 67377, 0, 0, [1000])\n",
    "Oliorigin_contract.transact({'from': coinbase}).addOli(account_12, int(49.47e4), int(8.47e4), 67377, 1, 3, [1000])\n",
    "Oliorigin_contract.transact({'from': coinbase}).addOli(account_13, int(48.42e4), int(10.07e4), 67377, 0, 5, [1000])\n",
    "Oliorigin_contract.transact({'from': coinbase}).addOli(account_14, int(48.80e4), int(9.22e4), 67377, 1, 0, [1000])\n",
    "Oliorigin_contract.transact({'from': coinbase}).addOli(account_15, int(48.87e4), int(9.22e4), 67377, 0, 5, [1000])\n",
    "\n",
    "\n",
    "Oliorigin_contract.transact({'from': coinbase}).addOli(account_16, int(48.87e4), int(9.19e4), 67377, 0, 6, [1000])\n",
    "Oliorigin_contract.transact({'from': coinbase}).addOli(account_17, int(48.81e4), int(9.18e4), 67377, 1, 6, [1000])\n",
    "Oliorigin_contract.transact({'from': coinbase}).addOli(account_18, int(48.40e4), int(9.96e4), 67377, 0, 7, [1000])\n",
    "Oliorigin_contract.transact({'from': coinbase}).addOli(account_19, int(48.50e4), int(10.06e4), 67377, 1, 7, [1000])\n",
    "Oliorigin_contract.transact({'from': coinbase}).addOli(account_20, int(48.60e4), int(10.16e4), 67377, 0, 7, [1000])\n"
   ]
  },
  {
   "cell_type": "code",
   "execution_count": 5,
   "metadata": {},
   "outputs": [
    {
     "data": {
      "text/plain": [
       "23"
      ]
     },
     "execution_count": 5,
     "metadata": {},
     "output_type": "execute_result"
    }
   ],
   "source": [
    "len(web3.eth.accounts)"
   ]
  },
  {
   "cell_type": "code",
   "execution_count": 66,
   "metadata": {
    "collapsed": true
   },
   "outputs": [],
   "source": [
    "#a = web3.eth.getTransactionReceipt('0xb5085ede3303cf642ba93afb0763de901e7b2c2e8b881ee501a0b2488e52a337')"
   ]
  },
  {
   "cell_type": "code",
   "execution_count": 50,
   "metadata": {
    "collapsed": true
   },
   "outputs": [],
   "source": [
    "#print(a)"
   ]
  },
  {
   "cell_type": "code",
   "execution_count": null,
   "metadata": {
    "collapsed": true
   },
   "outputs": [],
   "source": [
    "#print(a['blockHash'])"
   ]
  },
  {
   "cell_type": "code",
   "execution_count": 23,
   "metadata": {},
   "outputs": [
    {
     "data": {
      "text/plain": [
       "'0x5dd608620e90bdc27e4a78954ca75c3839ced1f6b67eedcdf6c96989a62af136'"
      ]
     },
     "execution_count": 23,
     "metadata": {},
     "output_type": "execute_result"
    }
   ],
   "source": [
    "#Register Trafos\n",
    "\n",
    "web3.personal.unlockAccount(coinbase, 'felixfaizan')\n",
    "Oliorigin_contract.transact({'from': coinbase}).addOli(account_21, int(49.30e4), int(8.35e4), 67376, 2, 8, [1000, 750, 750])\n",
    "Oliorigin_contract.transact({'from': coinbase}).addOli(account_22, int(48.69e4), int(9.21e4), 67377, 2, 8, [1000, 750, 750])\n"
   ]
  },
  {
   "cell_type": "code",
   "execution_count": 55,
   "metadata": {},
   "outputs": [
    {
     "data": {
      "text/plain": [
       "'0x3e34a6ab6a8996964f3090887e18845f2aeffb3f18b9bac31b7b04b3407c2654'"
      ]
     },
     "execution_count": 55,
     "metadata": {},
     "output_type": "execute_result"
    }
   ],
   "source": [
    "#Register Contract address for coin update\n",
    "web3.personal.unlockAccount(coinbase, 'felixfaizan')\n",
    "Olicoin_contract.transact({'from': coinbase}).set_ContractAddress(Olidaughter_address,True)\n"
   ]
  },
  {
   "cell_type": "code",
   "execution_count": 56,
   "metadata": {},
   "outputs": [
    {
     "data": {
      "text/plain": [
       "'0xf36afd58482f656af1d407b421e50374400efd9a0f48708dea8f6bec5cfa7336'"
      ]
     },
     "execution_count": 56,
     "metadata": {},
     "output_type": "execute_result"
    }
   ],
   "source": [
    "\n",
    "#########BILATERAL TRADE#########\n",
    "#set oli origin Address\n",
    "web3.personal.unlockAccount(coinbase, 'felixfaizan')\n",
    "Olibilateral_contract.transact({'from': coinbase}).setOliOrigin(Oliorigin_address)\n"
   ]
  },
  {
   "cell_type": "code",
   "execution_count": 19,
   "metadata": {},
   "outputs": [
    {
     "data": {
      "text/plain": [
       "'0x13503831ffa10b603c8c411534c9c305bcbf23b7c89cfea0948941191470f508'"
      ]
     },
     "execution_count": 19,
     "metadata": {},
     "output_type": "execute_result"
    }
   ],
   "source": [
    "#########DAUGHTER AUCTION########\n",
    "\n",
    "#set oli origin Address\n",
    "\n",
    "web3.personal.unlockAccount(coinbase, 'felixfaizan')\n",
    "Olidaughter_contract.transact({'from': coinbase}).setOliOrigin(Oliorigin_address)\n",
    "\n",
    "#set OLIcoin address\n",
    "web3.personal.unlockAccount(coinbase, 'felixfaizan')\n",
    "Olidaughter_contract.transact({'from': coinbase}).setOliCoin(Olicoin_address)\n",
    "\n",
    "\n",
    "#set DynamicGridFee address\n",
    "web3.personal.unlockAccount(coinbase, 'felixfaizan')\n",
    "Olidaughter_contract.transact({'from': coinbase}).setDynamicGridFee(DynamicGridFee_address)\n",
    "\n",
    "#set BilateralTrade address\n",
    "#web3.personal.unlockAccount(coinbase, 'felixfaizan')\n",
    "#Olidaughter_contract.transact({'from': coinbase}).setBilateralTrading(Olibilateral_address)\n"
   ]
  },
  {
   "cell_type": "code",
   "execution_count": 20,
   "metadata": {},
   "outputs": [
    {
     "data": {
      "text/plain": [
       "'0xce53bbcd30ef6cf59f3f03af347d10a0c293c914be46918827b7ad7e100f66af'"
      ]
     },
     "execution_count": 20,
     "metadata": {},
     "output_type": "execute_result"
    }
   ],
   "source": [
    "#########Dynamic Grid Fee#######\n",
    "#set oli origin Address\n",
    "web3.personal.unlockAccount(coinbase, 'felixfaizan')\n",
    "DynamicGridFee_contract.transact({'from': coinbase}).setOliOrigin(Oliorigin_address)"
   ]
  },
  {
   "cell_type": "code",
   "execution_count": 21,
   "metadata": {},
   "outputs": [
    {
     "data": {
      "text/plain": [
       "'0x6ca1d2b2df56a80b654d3faa170ce87ab13fae39160dbb27b4c8161590b954dc'"
      ]
     },
     "execution_count": 21,
     "metadata": {},
     "output_type": "execute_result"
    }
   ],
   "source": [
    "###Set Min/Max Grid Fee###\n",
    "web3.personal.unlockAccount(coinbase, 'felixfaizan')\n",
    "DynamicGridFee_contract.transact({'from': coinbase}).set_minmaxgfee(account_21, [4,6,1,3])"
   ]
  },
  {
   "cell_type": "code",
   "execution_count": 40,
   "metadata": {
    "collapsed": true
   },
   "outputs": [],
   "source": [
    "###BILATERAL TRADE####\n",
    "\n",
    "web3.personal.unlockAccount(account_5, 'felixfaizan')\n",
    "Olibilateral_contract.transact({'from': account_5}).regStock(5, 5, 108000, 240)\n",
    "time.sleep(30)\n",
    "\n",
    "web3.personal.unlockAccount(account_6, 'felixfaizan')\n",
    "Olibilateral_contract.transact({'from': account_6}).stockBidding(account_5, 7)\n",
    "time.sleep(30)\n",
    "\n",
    "web3.personal.unlockAccount(account_7, 'felixfaizan')\n",
    "Olibilateral_contract.transact({'from': account_7}).stockBidding(account_5, 8)\n",
    "time.sleep(30)\n",
    "\n",
    "web3.personal.unlockAccount(account_8, 'felixfaizan')\n",
    "Olibilateral_contract.transact({'from': account_8}).stockBidding(account_5, 9)\n",
    "time.sleep(30)\n"
   ]
  },
  {
   "cell_type": "code",
   "execution_count": null,
   "metadata": {
    "collapsed": true
   },
   "outputs": [],
   "source": [
    "web3.eth.accounts[21]"
   ]
  },
  {
   "cell_type": "code",
   "execution_count": 47,
   "metadata": {},
   "outputs": [
    {
     "data": {
      "text/plain": [
       "50000000000000000000"
      ]
     },
     "execution_count": 47,
     "metadata": {},
     "output_type": "execute_result"
    }
   ],
   "source": [
    "web3.eth.getBalance(web3.eth.accounts[22])"
   ]
  },
  {
   "cell_type": "code",
   "execution_count": null,
   "metadata": {
    "collapsed": true,
    "scrolled": true
   },
   "outputs": [],
   "source": [
    "#OLIDaughterAuction1 bid\n",
    "run = 1\n",
    "while run == 1:\n",
    "    web3.personal.unlockAccount(account_1, 'felixfaizan')\n",
    "    Olidaughter_contract.transact({'from': account_1}).bid(random.randint(50,625), 3)\n",
    "\n",
    "    web3.personal.unlockAccount(account_2, 'felixfaizan')\n",
    "    Olidaughter_contract.transact({'from': account_2}).bid(random.randint(100,105), 10)\n",
    "\n",
    "    web3.personal.unlockAccount(account_3, 'felixfaizan')\n",
    "    Olidaughter_contract.transact({'from': account_3}).bid(random.randint(50,55), 13)\n",
    "\n",
    "    web3.personal.unlockAccount(account_4, 'felixfaizan')\n",
    "    Olidaughter_contract.transact({'from': account_4}).bid(random.randint(200,205), 14)\n",
    "\n",
    "    web3.personal.unlockAccount(account_5, 'felixfaizan')\n",
    "    Olidaughter_contract.transact({'from': account_5}).bid(random.randint(155,160), 15)\n",
    "\n",
    "    #    time.sleep(15)\n",
    "\n",
    "    web3.personal.unlockAccount(account_6, 'felixfaizan')\n",
    "    Olidaughter_contract.transact({'from': account_6}).bid(random.randint(100,105), 9)\n",
    "\n",
    "    web3.personal.unlockAccount(account_7, 'felixfaizan')\n",
    "    Olidaughter_contract.transact({'from': account_7}).bid(random.randint(150,155), 10)\n",
    "\n",
    "    web3.personal.unlockAccount(account_8, 'felixfaizan')\n",
    "    Olidaughter_contract.transact({'from': account_8}).bid(random.randint(200,255), 12)\n",
    "\n",
    "    web3.personal.unlockAccount(account_9, 'felixfaizan')\n",
    "    Olidaughter_contract.transact({'from': account_9}).bid(random.randint(100,105), 13)\n",
    "\n",
    "    web3.personal.unlockAccount(account_10, 'felixfaizan')\n",
    "    Olidaughter_contract.transact({'from': account_10}).bid(random.randint(300,305), 14)\n",
    "\n",
    "    time.sleep(30)\n",
    "    \n",
    "    #MCP\n",
    "    web3.personal.unlockAccount(account_9, 'felixfaizan')\n",
    "    Olidaughter_contract.transact({'from': account_9}).breakEven()    \n",
    "    time.sleep(30)\n",
    "    web3.personal.unlockAccount(account_10, 'felixfaizan')\n",
    "    Olidaughter_contract.transact({'from': account_10}).resett()    \n",
    "    time.sleep(30)\n"
   ]
  },
  {
   "cell_type": "code",
   "execution_count": 11,
   "metadata": {},
   "outputs": [
    {
     "ename": "TypeError",
     "evalue": "One or more arguments could not be encoded to the necessary ABI type.  Expected types are: address",
     "output_type": "error",
     "traceback": [
      "\u001b[1;31m---------------------------------------------------------------------------\u001b[0m",
      "\u001b[1;31mTypeError\u001b[0m                                 Traceback (most recent call last)",
      "\u001b[1;32m<ipython-input-11-1bf1f871c6d8>\u001b[0m in \u001b[0;36m<module>\u001b[1;34m()\u001b[0m\n\u001b[1;32m----> 1\u001b[1;33m \u001b[0mDynamicGridFee_contract\u001b[0m\u001b[1;33m.\u001b[0m\u001b[0mcall\u001b[0m\u001b[1;33m(\u001b[0m\u001b[1;33m)\u001b[0m\u001b[1;33m.\u001b[0m\u001b[0mget_cktAmount\u001b[0m\u001b[1;33m(\u001b[0m\u001b[1;36m67376\u001b[0m\u001b[1;33m)\u001b[0m\u001b[1;33m\u001b[0m\u001b[0m\n\u001b[0m",
      "\u001b[1;32m~\\Anaconda3\\lib\\site-packages\\web3\\contract.py\u001b[0m in \u001b[0;36mcall_contract_function\u001b[1;34m(contract, function_name, transaction, *args, **kwargs)\u001b[0m\n\u001b[0;32m    830\u001b[0m         \u001b[0mfn_args\u001b[0m\u001b[1;33m=\u001b[0m\u001b[0margs\u001b[0m\u001b[1;33m,\u001b[0m\u001b[1;33m\u001b[0m\u001b[0m\n\u001b[0;32m    831\u001b[0m         \u001b[0mfn_kwargs\u001b[0m\u001b[1;33m=\u001b[0m\u001b[0mkwargs\u001b[0m\u001b[1;33m,\u001b[0m\u001b[1;33m\u001b[0m\u001b[0m\n\u001b[1;32m--> 832\u001b[1;33m         \u001b[0mtransaction\u001b[0m\u001b[1;33m=\u001b[0m\u001b[0mtransaction\u001b[0m\u001b[1;33m,\u001b[0m\u001b[1;33m\u001b[0m\u001b[0m\n\u001b[0m\u001b[0;32m    833\u001b[0m     )\n\u001b[0;32m    834\u001b[0m \u001b[1;33m\u001b[0m\u001b[0m\n",
      "\u001b[1;32m~\\Anaconda3\\lib\\site-packages\\web3\\utils\\decorators.py\u001b[0m in \u001b[0;36m_wrapper\u001b[1;34m(*args, **kwargs)\u001b[0m\n\u001b[0;32m     11\u001b[0m         \u001b[1;32mdef\u001b[0m \u001b[0m_wrapper\u001b[0m\u001b[1;33m(\u001b[0m\u001b[1;33m*\u001b[0m\u001b[0margs\u001b[0m\u001b[1;33m,\u001b[0m \u001b[1;33m**\u001b[0m\u001b[0mkwargs\u001b[0m\u001b[1;33m)\u001b[0m\u001b[1;33m:\u001b[0m\u001b[1;33m\u001b[0m\u001b[0m\n\u001b[0;32m     12\u001b[0m             \u001b[1;32mif\u001b[0m \u001b[0mobj\u001b[0m \u001b[1;32mis\u001b[0m \u001b[1;32mnot\u001b[0m \u001b[1;32mNone\u001b[0m\u001b[1;33m:\u001b[0m\u001b[1;33m\u001b[0m\u001b[0m\n\u001b[1;32m---> 13\u001b[1;33m                 \u001b[1;32mreturn\u001b[0m \u001b[0mself\u001b[0m\u001b[1;33m.\u001b[0m\u001b[0mmethod\u001b[0m\u001b[1;33m(\u001b[0m\u001b[0mobj\u001b[0m\u001b[1;33m,\u001b[0m \u001b[1;33m*\u001b[0m\u001b[0margs\u001b[0m\u001b[1;33m,\u001b[0m \u001b[1;33m**\u001b[0m\u001b[0mkwargs\u001b[0m\u001b[1;33m)\u001b[0m\u001b[1;33m\u001b[0m\u001b[0m\n\u001b[0m\u001b[0;32m     14\u001b[0m             \u001b[1;32melse\u001b[0m\u001b[1;33m:\u001b[0m\u001b[1;33m\u001b[0m\u001b[0m\n\u001b[0;32m     15\u001b[0m                 \u001b[1;32mreturn\u001b[0m \u001b[0mself\u001b[0m\u001b[1;33m.\u001b[0m\u001b[0mmethod\u001b[0m\u001b[1;33m(\u001b[0m\u001b[0mobjtype\u001b[0m\u001b[1;33m,\u001b[0m \u001b[1;33m*\u001b[0m\u001b[0margs\u001b[0m\u001b[1;33m,\u001b[0m \u001b[1;33m**\u001b[0m\u001b[0mkwargs\u001b[0m\u001b[1;33m)\u001b[0m\u001b[1;33m\u001b[0m\u001b[0m\n",
      "\u001b[1;32m~\\Anaconda3\\lib\\site-packages\\web3\\contract.py\u001b[0m in \u001b[0;36m_prepare_transaction\u001b[1;34m(cls, fn_name, fn_args, fn_kwargs, transaction)\u001b[0m\n\u001b[0;32m    690\u001b[0m             \u001b[0mfn_name\u001b[0m\u001b[1;33m,\u001b[0m\u001b[1;33m\u001b[0m\u001b[0m\n\u001b[0;32m    691\u001b[0m             \u001b[0mfn_args\u001b[0m\u001b[1;33m,\u001b[0m\u001b[1;33m\u001b[0m\u001b[0m\n\u001b[1;32m--> 692\u001b[1;33m             \u001b[0mfn_kwargs\u001b[0m\u001b[1;33m,\u001b[0m\u001b[1;33m\u001b[0m\u001b[0m\n\u001b[0m\u001b[0;32m    693\u001b[0m         )\n\u001b[0;32m    694\u001b[0m         \u001b[1;32mreturn\u001b[0m \u001b[0mprepared_transaction\u001b[0m\u001b[1;33m\u001b[0m\u001b[0m\n",
      "\u001b[1;32m~\\Anaconda3\\lib\\site-packages\\eth_utils\\string.py\u001b[0m in \u001b[0;36minner\u001b[1;34m(*args, **kwargs)\u001b[0m\n\u001b[0;32m     83\u001b[0m     \u001b[1;33m@\u001b[0m\u001b[0mfunctools\u001b[0m\u001b[1;33m.\u001b[0m\u001b[0mwraps\u001b[0m\u001b[1;33m(\u001b[0m\u001b[0mfn\u001b[0m\u001b[1;33m)\u001b[0m\u001b[1;33m\u001b[0m\u001b[0m\n\u001b[0;32m     84\u001b[0m     \u001b[1;32mdef\u001b[0m \u001b[0minner\u001b[0m\u001b[1;33m(\u001b[0m\u001b[1;33m*\u001b[0m\u001b[0margs\u001b[0m\u001b[1;33m,\u001b[0m \u001b[1;33m**\u001b[0m\u001b[0mkwargs\u001b[0m\u001b[1;33m)\u001b[0m\u001b[1;33m:\u001b[0m\u001b[1;33m\u001b[0m\u001b[0m\n\u001b[1;32m---> 85\u001b[1;33m         \u001b[1;32mreturn\u001b[0m \u001b[0mforce_obj_to_text\u001b[0m\u001b[1;33m(\u001b[0m\u001b[0mfn\u001b[0m\u001b[1;33m(\u001b[0m\u001b[1;33m*\u001b[0m\u001b[0margs\u001b[0m\u001b[1;33m,\u001b[0m \u001b[1;33m**\u001b[0m\u001b[0mkwargs\u001b[0m\u001b[1;33m)\u001b[0m\u001b[1;33m)\u001b[0m\u001b[1;33m\u001b[0m\u001b[0m\n\u001b[0m\u001b[0;32m     86\u001b[0m     \u001b[1;32mreturn\u001b[0m \u001b[0minner\u001b[0m\u001b[1;33m\u001b[0m\u001b[0m\n",
      "\u001b[1;32m~\\Anaconda3\\lib\\site-packages\\web3\\contract.py\u001b[0m in \u001b[0;36m_encode_transaction_data\u001b[1;34m(cls, fn_name, args, kwargs)\u001b[0m\n\u001b[0;32m    731\u001b[0m             \u001b[0mfn_name\u001b[0m\u001b[1;33m,\u001b[0m \u001b[0margs\u001b[0m\u001b[1;33m,\u001b[0m \u001b[0mkwargs\u001b[0m\u001b[1;33m,\u001b[0m\u001b[1;33m\u001b[0m\u001b[0m\n\u001b[0;32m    732\u001b[0m         )\n\u001b[1;32m--> 733\u001b[1;33m         \u001b[1;32mreturn\u001b[0m \u001b[0madd_0x_prefix\u001b[0m\u001b[1;33m(\u001b[0m\u001b[0mcls\u001b[0m\u001b[1;33m.\u001b[0m\u001b[0m_encode_abi\u001b[0m\u001b[1;33m(\u001b[0m\u001b[0mfn_abi\u001b[0m\u001b[1;33m,\u001b[0m \u001b[0mfn_arguments\u001b[0m\u001b[1;33m,\u001b[0m \u001b[0mfn_selector\u001b[0m\u001b[1;33m)\u001b[0m\u001b[1;33m)\u001b[0m\u001b[1;33m\u001b[0m\u001b[0m\n\u001b[0m\u001b[0;32m    734\u001b[0m \u001b[1;33m\u001b[0m\u001b[0m\n\u001b[0;32m    735\u001b[0m     \u001b[1;33m@\u001b[0m\u001b[0mclassmethod\u001b[0m\u001b[1;33m\u001b[0m\u001b[0m\n",
      "\u001b[1;32m~\\Anaconda3\\lib\\site-packages\\web3\\contract.py\u001b[0m in \u001b[0;36m_encode_abi\u001b[1;34m(cls, abi, arguments, data)\u001b[0m\n\u001b[0;32m    702\u001b[0m                 \u001b[1;34m\"One or more arguments could not be encoded to the necessary \"\u001b[0m\u001b[1;33m\u001b[0m\u001b[0m\n\u001b[0;32m    703\u001b[0m                 \"ABI type.  Expected types are: {0}\".format(\n\u001b[1;32m--> 704\u001b[1;33m                     \u001b[1;34m', '\u001b[0m\u001b[1;33m.\u001b[0m\u001b[0mjoin\u001b[0m\u001b[1;33m(\u001b[0m\u001b[0margument_types\u001b[0m\u001b[1;33m)\u001b[0m\u001b[1;33m,\u001b[0m\u001b[1;33m\u001b[0m\u001b[0m\n\u001b[0m\u001b[0;32m    705\u001b[0m                 )\n\u001b[0;32m    706\u001b[0m             )\n",
      "\u001b[1;31mTypeError\u001b[0m: One or more arguments could not be encoded to the necessary ABI type.  Expected types are: address"
     ]
    }
   ],
   "source": [
    "DynamicGridFee_contract.call().get_cktAmount(67376)"
   ]
  },
  {
   "cell_type": "code",
   "execution_count": 17,
   "metadata": {},
   "outputs": [
    {
     "data": {
      "text/plain": [
       "'0x777829d0249e953634f9a694e51cd7733195704d896bdf64579db1790472b9bd'"
      ]
     },
     "execution_count": 17,
     "metadata": {},
     "output_type": "execute_result"
    }
   ],
   "source": [
    "web3.personal.unlockAccount(account_5, 'felixfaizan')\n",
    "Olidaughter_contract.transact({'from': account_5}).bid(random.randint(155,160), 15)"
   ]
  },
  {
   "cell_type": "code",
   "execution_count": 13,
   "metadata": {},
   "outputs": [
    {
     "data": {
      "text/plain": [
       "49322301044000000000"
      ]
     },
     "execution_count": 13,
     "metadata": {},
     "output_type": "execute_result"
    }
   ],
   "source": [
    "web3.eth.getBalance(account_5)"
   ]
  },
  {
   "cell_type": "code",
   "execution_count": 24,
   "metadata": {
    "scrolled": true
   },
   "outputs": [
    {
     "data": {
      "text/plain": [
       "'0x023a86984781960e59693122a514272cc08b99b2d538f775088da3475da55bb2'"
      ]
     },
     "execution_count": 24,
     "metadata": {},
     "output_type": "execute_result"
    }
   ],
   "source": [
    "#MCP\n",
    "web3.personal.unlockAccount(account_3, 'felixfaizan')\n",
    "Olidaughter_contract.transact({'from': account_3}).resett()"
   ]
  },
  {
   "cell_type": "code",
   "execution_count": 44,
   "metadata": {},
   "outputs": [
    {
     "data": {
      "text/plain": [
       "'0x1b7a077339ae1493a4e2862649cb91184a3c6135466ab2f237595efd97341200'"
      ]
     },
     "execution_count": 44,
     "metadata": {},
     "output_type": "execute_result"
    }
   ],
   "source": [
    "#GSO reward\n",
    "web3.personal.unlockAccount(coinbase, 'felixfaizan')\n",
    "Olicoin_contract.transact({'from': coinbase}).set_OliCoinBalance(Oliorigin_contract.call().get_gsoAddr(Oliorigin_contract.call().get_oliTrafoid('0xd6bF72BADDF58f992971992c25F9de9de8c12A1F')), int((DynamicGridFee_contract.call().get_dGFee('0xd6bF72BADDF58f992971992c25F9de9de8c12A1F'))*100))"
   ]
  },
  {
   "cell_type": "code",
   "execution_count": 47,
   "metadata": {},
   "outputs": [
    {
     "data": {
      "text/plain": [
       "4600"
      ]
     },
     "execution_count": 47,
     "metadata": {},
     "output_type": "execute_result"
    }
   ],
   "source": [
    "Olicoin_contract.call().get_coinBalance(account_2)"
   ]
  },
  {
   "cell_type": "code",
   "execution_count": 48,
   "metadata": {},
   "outputs": [
    {
     "data": {
      "text/plain": [
       "-24120"
      ]
     },
     "execution_count": 48,
     "metadata": {},
     "output_type": "execute_result"
    }
   ],
   "source": [
    "Olicoin_contract.call().get_coinBalance(account_10)"
   ]
  },
  {
   "cell_type": "code",
   "execution_count": 44,
   "metadata": {},
   "outputs": [
    {
     "data": {
      "text/plain": [
       "'0x9d3d4186bb4f501f8a1e0e70c51d2f65ab834116fe2086cc8183ae40d889966d'"
      ]
     },
     "execution_count": 44,
     "metadata": {},
     "output_type": "execute_result"
    }
   ],
   "source": [
    "web3.personal.unlockAccount(account_2, 'felixfaizan')\n",
    "Olicoin_contract.transact({'from': account_2}).transfer(account_10, 62)\n"
   ]
  },
  {
   "cell_type": "code",
   "execution_count": 54,
   "metadata": {},
   "outputs": [
    {
     "data": {
      "text/plain": [
       "'0xbFD6614d47b71C8F731A6e029f7e9637afD038CF'"
      ]
     },
     "execution_count": 54,
     "metadata": {},
     "output_type": "execute_result"
    }
   ],
   "source": [
    "Oliorigin_contract.call().get_gsoAddr(67376)"
   ]
  },
  {
   "cell_type": "code",
   "execution_count": 10,
   "metadata": {},
   "outputs": [
    {
     "data": {
      "text/plain": [
       "True"
      ]
     },
     "execution_count": 10,
     "metadata": {},
     "output_type": "execute_result"
    }
   ],
   "source": [
    "account_1=web3.eth.accounts[0]\n",
    "web3.personal.unlockAccount(account_1, 'hassan')"
   ]
  },
  {
   "cell_type": "code",
   "execution_count": 11,
   "metadata": {},
   "outputs": [
    {
     "data": {
      "text/plain": [
       "'0xdc2dd2224e186be966eb0d6f0422ce483b535946391c47f7765fc1be441257a2'"
      ]
     },
     "execution_count": 11,
     "metadata": {},
     "output_type": "execute_result"
    }
   ],
   "source": [
    "Oliorigin_contract.transact({'from': coinbase}).addOli(account_1, int(49.30e4), int(8.35e4), 67376, 0, 0, [1000])"
   ]
  },
  {
   "cell_type": "code",
   "execution_count": null,
   "metadata": {
    "collapsed": true
   },
   "outputs": [],
   "source": [
    "web3.eth"
   ]
  }
 ],
 "metadata": {
  "kernelspec": {
   "display_name": "Python 3",
   "language": "python",
   "name": "python3"
  },
  "language_info": {
   "codemirror_mode": {
    "name": "ipython",
    "version": 3
   },
   "file_extension": ".py",
   "mimetype": "text/x-python",
   "name": "python",
   "nbconvert_exporter": "python",
   "pygments_lexer": "ipython3",
   "version": "3.6.2"
  }
 },
 "nbformat": 4,
 "nbformat_minor": 2
}
