{
 "cells": [
  {
   "cell_type": "code",
   "execution_count": 2,
   "metadata": {
    "collapsed": true
   },
   "outputs": [],
   "source": [
    "# coding: utf-8\n",
    "\n",
    "import json\n",
    "import web3\n",
    "import math\n",
    "import random\n",
    "import time\n",
    "\n",
    "from web3 import Web3, KeepAliveRPCProvider, IPCProvider, HTTPProvider"
   ]
  },
  {
   "cell_type": "markdown",
   "metadata": {},
   "source": [
    "Next step: Connect to Client, create 20 Accounts, define a coinbase (=default account)"
   ]
  },
  {
   "cell_type": "code",
   "execution_count": 3,
   "metadata": {
    "collapsed": true
   },
   "outputs": [],
   "source": [
    "web3 = Web3(HTTPProvider(\"http://127.0.0.1:8545\", request_kwargs={'timeout': 600}))"
   ]
  },
  {
   "cell_type": "code",
   "execution_count": null,
   "metadata": {
    "collapsed": true
   },
   "outputs": [],
   "source": [
    "### execute Only on a fresh Blockchain! Change the Passwords!\n",
    "for i in range(1,30):\n",
    "    web3.personal.newAccount('olirocks2018')"
   ]
  },
  {
   "cell_type": "code",
   "execution_count": 4,
   "metadata": {
    "collapsed": true
   },
   "outputs": [],
   "source": [
    "coinbase = web3.eth.coinbase\n",
    "web3.eth.defaultBlock = \"latest\"\n",
    "transaction = {'from': coinbase}"
   ]
  },
  {
   "cell_type": "markdown",
   "metadata": {},
   "source": [
    "Replace The Contract Adresses below to the actual addresses of the contracts on your particular chain! In order to get the contract addresses deploy either with TRUFFLE or REMIX!"
   ]
  },
  {
   "cell_type": "code",
   "execution_count": 5,
   "metadata": {
    "collapsed": true
   },
   "outputs": [],
   "source": [
    "# define the adress, ABI (with parsing from str to JSON) and define the contract object\n",
    "Oliorigin_address = '0xc53ca74bf422da47d9847cfbeb4d15ba374af606'\n",
    "Oliorigin_abi_str  = '[{\"constant\":true,\"inputs\":[{\"name\":\"_account\",\"type\":\"address\"}],\"name\":\"get_oliType\",\"outputs\":[{\"name\":\"\",\"type\":\"uint8\"}],\"payable\":false,\"stateMutability\":\"view\",\"type\":\"function\"},{\"constant\":true,\"inputs\":[{\"name\":\"_account\",\"type\":\"address\"}],\"name\":\"get_oliCkt\",\"outputs\":[{\"name\":\"\",\"type\":\"uint8\"}],\"payable\":false,\"stateMutability\":\"view\",\"type\":\"function\"},{\"constant\":false,\"inputs\":[],\"name\":\"kill\",\"outputs\":[],\"payable\":false,\"stateMutability\":\"nonpayable\",\"type\":\"function\"},{\"constant\":true,\"inputs\":[{\"name\":\"_account\",\"type\":\"address\"}],\"name\":\"get_oliTrafoid\",\"outputs\":[{\"name\":\"\",\"type\":\"uint32\"}],\"payable\":false,\"stateMutability\":\"view\",\"type\":\"function\"},{\"constant\":true,\"inputs\":[{\"name\":\"_tid\",\"type\":\"uint32\"}],\"name\":\"get_gsoAddr\",\"outputs\":[{\"name\":\"\",\"type\":\"address\"}],\"payable\":false,\"stateMutability\":\"view\",\"type\":\"function\"},{\"constant\":true,\"inputs\":[{\"name\":\"_account\",\"type\":\"address\"},{\"name\":\"_index\",\"type\":\"uint8\"}],\"name\":\"get_oliPeakLoad\",\"outputs\":[{\"name\":\"\",\"type\":\"uint16\"}],\"payable\":false,\"stateMutability\":\"view\",\"type\":\"function\"},{\"constant\":false,\"inputs\":[{\"name\":\"oli\",\"type\":\"address\"},{\"name\":\"lat\",\"type\":\"uint32\"},{\"name\":\"long\",\"type\":\"uint32\"},{\"name\":\"trafo\",\"type\":\"uint32\"},{\"name\":\"ckt\",\"type\":\"uint8\"},{\"name\":\"typex\",\"type\":\"uint8\"},{\"name\":\"pload\",\"type\":\"uint16[]\"}],\"name\":\"addOli\",\"outputs\":[],\"payable\":false,\"stateMutability\":\"nonpayable\",\"type\":\"function\"},{\"anonymous\":false,\"inputs\":[{\"indexed\":false,\"name\":\"paymentAddress\",\"type\":\"address\"},{\"indexed\":false,\"name\":\"latOfLocation\",\"type\":\"uint32\"},{\"indexed\":false,\"name\":\"longOfLocation\",\"type\":\"uint32\"}],\"name\":\"newAddedOli\",\"type\":\"event\"}]'\n",
    "Oliorigin_abi      = json.loads(Oliorigin_abi_str)\n",
    "Oliorigin_contract = web3.eth.contract(abi=Oliorigin_abi,address=Oliorigin_address)"
   ]
  },
  {
   "cell_type": "code",
   "execution_count": 6,
   "metadata": {
    "collapsed": true
   },
   "outputs": [],
   "source": [
    "# define the adress, ABI (with parsing from str to JSON) and define the contract object\n",
    "Olicoin_address = '0x318e506952f2f8dca49f75a63406a38916a395d4'\n",
    "Olicoin_abi_str  = '[{\"constant\":false,\"inputs\":[],\"name\":\"kill\",\"outputs\":[],\"payable\":false,\"stateMutability\":\"nonpayable\",\"type\":\"function\"},{\"constant\":true,\"inputs\":[{\"name\":\"caddress\",\"type\":\"address\"}],\"name\":\"get_coinBalance\",\"outputs\":[{\"name\":\"\",\"type\":\"int32\"}],\"payable\":false,\"stateMutability\":\"view\",\"type\":\"function\"},{\"constant\":false,\"inputs\":[{\"name\":\"_contract\",\"type\":\"address\"},{\"name\":\"_tf\",\"type\":\"bool\"}],\"name\":\"set_ContractAddress\",\"outputs\":[],\"payable\":false,\"stateMutability\":\"nonpayable\",\"type\":\"function\"},{\"constant\":false,\"inputs\":[{\"name\":\"_account\",\"type\":\"address\"},{\"name\":\"_change\",\"type\":\"int32\"}],\"name\":\"set_OliCoinBalance\",\"outputs\":[],\"payable\":false,\"stateMutability\":\"nonpayable\",\"type\":\"function\"},{\"constant\":false,\"inputs\":[{\"name\":\"_to\",\"type\":\"address\"},{\"name\":\"_amount\",\"type\":\"uint16\"}],\"name\":\"transfer\",\"outputs\":[{\"name\":\"success\",\"type\":\"bool\"}],\"payable\":false,\"stateMutability\":\"nonpayable\",\"type\":\"function\"},{\"anonymous\":false,\"inputs\":[{\"indexed\":true,\"name\":\"_from\",\"type\":\"address\"},{\"indexed\":true,\"name\":\"_to\",\"type\":\"address\"},{\"indexed\":false,\"name\":\"_value\",\"type\":\"uint16\"}],\"name\":\"Transfer\",\"type\":\"event\"}]'\n",
    "Olicoin_abi      = json.loads(Olicoin_abi_str)\n",
    "Olicoin_contract = web3.eth.contract(abi=Olicoin_abi,address=Olicoin_address)"
   ]
  },
  {
   "cell_type": "code",
   "execution_count": 7,
   "metadata": {
    "collapsed": true
   },
   "outputs": [],
   "source": [
    "# define the adress, ABI (with parsing from str to JSON) and define the contract object\n",
    "Olibilateral_address = '0x9fb7f273290faa24bc9ad1fd0b10236d148f6b56'\n",
    "Olibilateral_abi_str  = '[{\"constant\":false,\"inputs\":[{\"name\":\"addr\",\"type\":\"address\"}],\"name\":\"setOliOrigin\",\"outputs\":[],\"payable\":false,\"stateMutability\":\"nonpayable\",\"type\":\"function\"},{\"constant\":false,\"inputs\":[{\"name\":\"_stock\",\"type\":\"address\"},{\"name\":\"_rate\",\"type\":\"uint8\"}],\"name\":\"stockBidding\",\"outputs\":[],\"payable\":false,\"stateMutability\":\"nonpayable\",\"type\":\"function\"},{\"constant\":true,\"inputs\":[{\"name\":\"_stock\",\"type\":\"address\"}],\"name\":\"get_stockAmount\",\"outputs\":[{\"name\":\"\",\"type\":\"uint16\"}],\"payable\":false,\"stateMutability\":\"view\",\"type\":\"function\"},{\"constant\":false,\"inputs\":[],\"name\":\"kill\",\"outputs\":[],\"payable\":false,\"stateMutability\":\"nonpayable\",\"type\":\"function\"},{\"constant\":false,\"inputs\":[{\"name\":\"_amount\",\"type\":\"uint16\"},{\"name\":\"_rate\",\"type\":\"uint8\"},{\"name\":\"_period\",\"type\":\"uint32\"},{\"name\":\"_btime\",\"type\":\"uint32\"}],\"name\":\"regStock\",\"outputs\":[],\"payable\":false,\"stateMutability\":\"nonpayable\",\"type\":\"function\"},{\"constant\":true,\"inputs\":[{\"name\":\"_stock\",\"type\":\"address\"}],\"name\":\"get_stockBidder\",\"outputs\":[{\"name\":\"\",\"type\":\"address\"}],\"payable\":false,\"stateMutability\":\"view\",\"type\":\"function\"},{\"constant\":true,\"inputs\":[{\"name\":\"_stock\",\"type\":\"address\"}],\"name\":\"get_stockRate\",\"outputs\":[{\"name\":\"\",\"type\":\"uint8\"}],\"payable\":false,\"stateMutability\":\"view\",\"type\":\"function\"},{\"anonymous\":false,\"inputs\":[{\"indexed\":false,\"name\":\"saccount\",\"type\":\"address\"},{\"indexed\":false,\"name\":\"samount\",\"type\":\"uint16\"},{\"indexed\":false,\"name\":\"smrate\",\"type\":\"uint8\"},{\"indexed\":false,\"name\":\"speriod\",\"type\":\"uint32\"},{\"indexed\":false,\"name\":\"sbiddingTime\",\"type\":\"uint32\"}],\"name\":\"NewStock\",\"type\":\"event\"},{\"anonymous\":false,\"inputs\":[{\"indexed\":false,\"name\":\"baccount\",\"type\":\"address\"},{\"indexed\":false,\"name\":\"bmrate\",\"type\":\"uint8\"}],\"name\":\"NewStockBid\",\"type\":\"event\"}]'\n",
    "Olibilateral_abi      = json.loads(Olibilateral_abi_str)\n",
    "Olibilateral_contract = web3.eth.contract(abi=Olibilateral_abi,address=Olibilateral_address)"
   ]
  },
  {
   "cell_type": "code",
   "execution_count": 8,
   "metadata": {
    "collapsed": true
   },
   "outputs": [],
   "source": [
    "# define the adress, ABI (with parsing from str to JSON) and define the contract object\n",
    "Olidaughter_address = '0x6c163cc569ab1b94372c3398aa085cdb5123a515'\n",
    "Olidaughter_abi_str  = '[{\"constant\":false,\"inputs\":[{\"name\":\"addr\",\"type\":\"address\"}],\"name\":\"setOliOrigin\",\"outputs\":[],\"payable\":false,\"stateMutability\":\"nonpayable\",\"type\":\"function\"},{\"constant\":false,\"inputs\":[{\"name\":\"_amount\",\"type\":\"uint16\"},{\"name\":\"_rate\",\"type\":\"uint8\"}],\"name\":\"bid\",\"outputs\":[],\"payable\":false,\"stateMutability\":\"nonpayable\",\"type\":\"function\"},{\"constant\":false,\"inputs\":[{\"name\":\"addr\",\"type\":\"address\"}],\"name\":\"setBilateralTrading\",\"outputs\":[],\"payable\":false,\"stateMutability\":\"nonpayable\",\"type\":\"function\"},{\"constant\":false,\"inputs\":[{\"name\":\"addr\",\"type\":\"address\"}],\"name\":\"setOliCoin\",\"outputs\":[],\"payable\":false,\"stateMutability\":\"nonpayable\",\"type\":\"function\"},{\"constant\":false,\"inputs\":[{\"name\":\"addr\",\"type\":\"address\"}],\"name\":\"setDynamicGridFee\",\"outputs\":[],\"payable\":false,\"stateMutability\":\"nonpayable\",\"type\":\"function\"},{\"constant\":false,\"inputs\":[],\"name\":\"kill\",\"outputs\":[],\"payable\":false,\"stateMutability\":\"nonpayable\",\"type\":\"function\"},{\"constant\":false,\"inputs\":[],\"name\":\"resett\",\"outputs\":[],\"payable\":false,\"stateMutability\":\"nonpayable\",\"type\":\"function\"},{\"constant\":true,\"inputs\":[],\"name\":\"get_producer\",\"outputs\":[{\"name\":\"\",\"type\":\"address[]\"}],\"payable\":false,\"stateMutability\":\"view\",\"type\":\"function\"},{\"constant\":true,\"inputs\":[{\"name\":\"_rate\",\"type\":\"uint8\"}],\"name\":\"get_sRate\",\"outputs\":[{\"name\":\"\",\"type\":\"uint16\"}],\"payable\":false,\"stateMutability\":\"view\",\"type\":\"function\"},{\"constant\":true,\"inputs\":[],\"name\":\"get_consumer\",\"outputs\":[{\"name\":\"\",\"type\":\"address[]\"}],\"payable\":false,\"stateMutability\":\"view\",\"type\":\"function\"},{\"constant\":true,\"inputs\":[{\"name\":\"_rate\",\"type\":\"uint8\"}],\"name\":\"get_dRate\",\"outputs\":[{\"name\":\"\",\"type\":\"uint16\"}],\"payable\":false,\"stateMutability\":\"view\",\"type\":\"function\"},{\"constant\":true,\"inputs\":[],\"name\":\"maxRate\",\"outputs\":[{\"name\":\"\",\"type\":\"uint8\"}],\"payable\":false,\"stateMutability\":\"view\",\"type\":\"function\"},{\"constant\":false,\"inputs\":[],\"name\":\"breakEven\",\"outputs\":[],\"payable\":false,\"stateMutability\":\"nonpayable\",\"type\":\"function\"},{\"inputs\":[],\"payable\":false,\"stateMutability\":\"nonpayable\",\"type\":\"constructor\"},{\"anonymous\":false,\"inputs\":[{\"indexed\":true,\"name\":\"gaddr\",\"type\":\"address\"},{\"indexed\":false,\"name\":\"grate\",\"type\":\"uint8\"},{\"indexed\":false,\"name\":\"gamount\",\"type\":\"uint16\"}],\"name\":\"NewGenBid\",\"type\":\"event\"},{\"anonymous\":false,\"inputs\":[{\"indexed\":true,\"name\":\"caddr\",\"type\":\"address\"},{\"indexed\":false,\"name\":\"crate\",\"type\":\"uint8\"},{\"indexed\":false,\"name\":\"camount\",\"type\":\"uint16\"}],\"name\":\"NewConBid\",\"type\":\"event\"},{\"anonymous\":false,\"inputs\":[{\"indexed\":false,\"name\":\"cbid\",\"type\":\"uint8\"}],\"name\":\"NewMcp\",\"type\":\"event\"}]'\n",
    "Olidaughter_abi      = json.loads(Olidaughter_abi_str)\n",
    "Olidaughter_contract = web3.eth.contract(abi=Olidaughter_abi,address=Olidaughter_address)"
   ]
  },
  {
   "cell_type": "code",
   "execution_count": 9,
   "metadata": {
    "collapsed": true
   },
   "outputs": [],
   "source": [
    "# define the adress, ABI (with parsing from str to JSON) and define the contract object\n",
    "DynamicGridFee_address = '0x869c205e218385769573a34ea696c38f42f25a41'\n",
    "DynamicGridFee_abi_str  = '[{\"constant\":true,\"inputs\":[{\"name\":\"_tid\",\"type\":\"uint32\"},{\"name\":\"_index\",\"type\":\"uint8\"}],\"name\":\"get_gridFee\",\"outputs\":[{\"name\":\"\",\"type\":\"uint8\"}],\"payable\":false,\"stateMutability\":\"view\",\"type\":\"function\"},{\"constant\":false,\"inputs\":[{\"name\":\"_addr\",\"type\":\"address\"},{\"name\":\"_amount\",\"type\":\"uint16\"}],\"name\":\"set_trafocamount\",\"outputs\":[],\"payable\":false,\"stateMutability\":\"nonpayable\",\"type\":\"function\"},{\"constant\":false,\"inputs\":[{\"name\":\"addr\",\"type\":\"address\"}],\"name\":\"setOliOrigin\",\"outputs\":[],\"payable\":false,\"stateMutability\":\"nonpayable\",\"type\":\"function\"},{\"constant\":false,\"inputs\":[{\"name\":\"_addr\",\"type\":\"address\"},{\"name\":\"_amount\",\"type\":\"uint16\"}],\"name\":\"set_cktcamount\",\"outputs\":[],\"payable\":false,\"stateMutability\":\"nonpayable\",\"type\":\"function\"},{\"constant\":false,\"inputs\":[],\"name\":\"kill\",\"outputs\":[],\"payable\":false,\"stateMutability\":\"nonpayable\",\"type\":\"function\"},{\"constant\":false,\"inputs\":[{\"name\":\"_tid\",\"type\":\"uint32\"}],\"name\":\"set_tgridFee\",\"outputs\":[],\"payable\":false,\"stateMutability\":\"nonpayable\",\"type\":\"function\"},{\"constant\":true,\"inputs\":[{\"name\":\"_tid\",\"type\":\"uint32\"},{\"name\":\"_index\",\"type\":\"uint8\"}],\"name\":\"get_cktAmount\",\"outputs\":[{\"name\":\"\",\"type\":\"int16\"}],\"payable\":false,\"stateMutability\":\"view\",\"type\":\"function\"},{\"constant\":true,\"inputs\":[{\"name\":\"_addr\",\"type\":\"address\"}],\"name\":\"get_tGFee\",\"outputs\":[{\"name\":\"\",\"type\":\"uint8\"}],\"payable\":false,\"stateMutability\":\"view\",\"type\":\"function\"},{\"constant\":false,\"inputs\":[{\"name\":\"_address\",\"type\":\"address\"},{\"name\":\"_fee\",\"type\":\"uint8[]\"}],\"name\":\"set_minmaxgfee\",\"outputs\":[],\"payable\":false,\"stateMutability\":\"nonpayable\",\"type\":\"function\"},{\"constant\":false,\"inputs\":[{\"name\":\"_addr\",\"type\":\"address\"},{\"name\":\"_amount\",\"type\":\"uint16\"}],\"name\":\"set_traforamount\",\"outputs\":[],\"payable\":false,\"stateMutability\":\"nonpayable\",\"type\":\"function\"},{\"constant\":true,\"inputs\":[{\"name\":\"_addr\",\"type\":\"address\"}],\"name\":\"get_dGFee\",\"outputs\":[{\"name\":\"\",\"type\":\"uint8\"}],\"payable\":false,\"stateMutability\":\"view\",\"type\":\"function\"},{\"constant\":false,\"inputs\":[{\"name\":\"_tid\",\"type\":\"uint32\"}],\"name\":\"set_dgridFee\",\"outputs\":[],\"payable\":false,\"stateMutability\":\"nonpayable\",\"type\":\"function\"},{\"constant\":false,\"inputs\":[{\"name\":\"_addr\",\"type\":\"address\"},{\"name\":\"_amount\",\"type\":\"uint64\"}],\"name\":\"set_cktramount\",\"outputs\":[],\"payable\":false,\"stateMutability\":\"nonpayable\",\"type\":\"function\"},{\"constant\":true,\"inputs\":[{\"name\":\"_addr\",\"type\":\"address\"}],\"name\":\"get_trafoAmount\",\"outputs\":[{\"name\":\"\",\"type\":\"int16\"}],\"payable\":false,\"stateMutability\":\"view\",\"type\":\"function\"}]'\n",
    "DynamicGridFee_abi      = json.loads(DynamicGridFee_abi_str)\n",
    "DynamicGridFee_contract = web3.eth.contract(abi=DynamicGridFee_abi,address=DynamicGridFee_address)"
   ]
  },
  {
   "cell_type": "code",
   "execution_count": 10,
   "metadata": {
    "collapsed": true
   },
   "outputs": [],
   "source": [
    "account_0=web3.eth.accounts[0]\n",
    "account_1=web3.eth.accounts[1]\n",
    "account_2=web3.eth.accounts[2]\n",
    "account_3=web3.eth.accounts[3]\n",
    "account_4=web3.eth.accounts[4]\n",
    "account_5=web3.eth.accounts[5]\n",
    "account_6=web3.eth.accounts[6]\n",
    "account_7=web3.eth.accounts[7]\n",
    "account_8=web3.eth.accounts[8]\n",
    "account_9=web3.eth.accounts[9]\n",
    "account_10=web3.eth.accounts[10]\n",
    "account_11=web3.eth.accounts[11]\n",
    "account_12=web3.eth.accounts[12]\n",
    "account_13=web3.eth.accounts[13]\n",
    "account_14=web3.eth.accounts[14]\n",
    "account_15=web3.eth.accounts[15]\n",
    "account_16=web3.eth.accounts[16]\n",
    "account_17=web3.eth.accounts[17]\n",
    "account_18=web3.eth.accounts[18]\n",
    "account_19=web3.eth.accounts[19]\n",
    "account_20=web3.eth.accounts[20]\n",
    "account_21=web3.eth.accounts[21]\n",
    "account_22=web3.eth.accounts[22]"
   ]
  },
  {
   "cell_type": "markdown",
   "metadata": {},
   "source": [
    "ONLY ON A FRESH DEPLOYMENT\n",
    "\n",
    "Register OLIs with some of the addresses above at OLI Origin\n",
    "Register Transformers at OLI Origin"
   ]
  },
  {
   "cell_type": "code",
   "execution_count": null,
   "metadata": {
    "collapsed": true,
    "scrolled": true
   },
   "outputs": [],
   "source": [
    "#Register OLIs\n",
    "\n",
    "web3.personal.unlockAccount(coinbase, 'hassan')\n",
    "\n",
    "Oliorigin_contract.transact({'from': coinbase}).addOli(account_1, int(49.30e4), int(8.35e4), 67376, 0, 0, [1000])\n",
    "Oliorigin_contract.transact({'from': coinbase}).addOli(account_2, int(48.39e4), int(9.97e4), 67376, 1, 3, [1000])\n",
    "Oliorigin_contract.transact({'from': coinbase}).addOli(account_3, int(48.77e4), int(9.16e4), 67376, 0, 5, [1000])\n",
    "Oliorigin_contract.transact({'from': coinbase}).addOli(account_4, int(49.40e4), int(8.67e4), 67376, 1, 0, [1000])\n",
    "Oliorigin_contract.transact({'from': coinbase}).addOli(account_5, int(48.89e4), int(9.20e4), 67376, 0, 5, [1000])\n",
    "\n",
    "\n",
    "Oliorigin_contract.transact({'from': coinbase}).addOli(account_6, int(48.62e4), int(9.83e4), 67376, 0, 6, [1000])\n",
    "Oliorigin_contract.transact({'from': coinbase}).addOli(account_7, int(48.00e4), int(7.84e4), 67376, 1, 6, [1000])\n",
    "Oliorigin_contract.transact({'from': coinbase}).addOli(account_8, int(49.49e4), int(8.47e4), 67376, 0, 7, [1000])\n",
    "Oliorigin_contract.transact({'from': coinbase}).addOli(account_9, int(49.32e4), int(8.44e4), 67376, 1, 7, [1000])\n",
    "Oliorigin_contract.transact({'from': coinbase}).addOli(account_10, int(48.41e4), int(10.00e4), 67376, 0, 7, [1000])\n",
    "\n",
    "\n",
    "Oliorigin_contract.transact({'from': coinbase}).addOli(account_11, int(48.69e4), int(9.21e4), 67377, 0, 0, [1000])\n",
    "Oliorigin_contract.transact({'from': coinbase}).addOli(account_12, int(49.47e4), int(8.47e4), 67377, 1, 3, [1000])\n",
    "Oliorigin_contract.transact({'from': coinbase}).addOli(account_13, int(48.42e4), int(10.07e4), 67377, 0, 5, [1000])\n",
    "Oliorigin_contract.transact({'from': coinbase}).addOli(account_14, int(48.80e4), int(9.22e4), 67377, 1, 0, [1000])\n",
    "Oliorigin_contract.transact({'from': coinbase}).addOli(account_15, int(48.87e4), int(9.22e4), 67377, 0, 5, [1000])\n",
    "\n",
    "\n",
    "Oliorigin_contract.transact({'from': coinbase}).addOli(account_16, int(48.87e4), int(9.19e4), 67377, 0, 6, [1000])\n",
    "Oliorigin_contract.transact({'from': coinbase}).addOli(account_17, int(48.81e4), int(9.18e4), 67377, 1, 6, [1000])\n",
    "Oliorigin_contract.transact({'from': coinbase}).addOli(account_18, int(48.40e4), int(9.96e4), 67377, 0, 7, [1000])\n",
    "Oliorigin_contract.transact({'from': coinbase}).addOli(account_19, int(48.50e4), int(10.06e4), 67377, 1, 7, [1000])\n",
    "Oliorigin_contract.transact({'from': coinbase}).addOli(account_20, int(48.60e4), int(10.16e4), 67377, 0, 7, [1000])\n"
   ]
  },
  {
   "cell_type": "code",
   "execution_count": null,
   "metadata": {
    "collapsed": true
   },
   "outputs": [],
   "source": [
    "#Register Trafos\n",
    "\n",
    "web3.personal.unlockAccount(coinbase, 'hassan')\n",
    "Oliorigin_contract.transact({'from': coinbase}).addOli(account_21, int(49.30e4), int(8.35e4), 67376, 2, 8, [1000, 750, 750])\n",
    "Oliorigin_contract.transact({'from': coinbase}).addOli(account_22, int(48.69e4), int(9.21e4), 67377, 2, 8, [1000, 750, 750])\n"
   ]
  },
  {
   "cell_type": "code",
   "execution_count": null,
   "metadata": {
    "collapsed": true
   },
   "outputs": [],
   "source": [
    "#Register Contract address for coin update\n",
    "web3.personal.unlockAccount(coinbase, 'hassan')\n",
    "Olicoin_contract.transact({'from': coinbase}).set_ContractAddress(Olidaughter_address,True)\n"
   ]
  },
  {
   "cell_type": "code",
   "execution_count": null,
   "metadata": {
    "collapsed": true
   },
   "outputs": [],
   "source": [
    "#########BILATERAL TRADE#########\n",
    "#set oli origin Address\n",
    "web3.personal.unlockAccount(coinbase, 'hassan')\n",
    "Olibilateral_contract.transact({'from': coinbase}).setOliOrigin(Oliorigin_address)\n"
   ]
  },
  {
   "cell_type": "code",
   "execution_count": null,
   "metadata": {
    "collapsed": true
   },
   "outputs": [],
   "source": [
    "#########DAUGHTER AUCTION########\n",
    "\n",
    "#set oli origin Address\n",
    "\n",
    "web3.personal.unlockAccount(coinbase, 'hassan')\n",
    "Olidaughter_contract.transact({'from': coinbase}).setOliOrigin(Oliorigin_address)\n",
    "\n",
    "#set OLIcoin address\n",
    "web3.personal.unlockAccount(coinbase, 'hassan')\n",
    "Olidaughter_contract.transact({'from': coinbase}).setOliCoin(Olicoin_address)\n",
    "\n",
    "\n",
    "#set DynamicGridFee address\n",
    "web3.personal.unlockAccount(coinbase, 'hassan')\n",
    "Olidaughter_contract.transact({'from': coinbase}).setDynamicGridFee(DynamicGridFee_address)\n",
    "\n",
    "#set BilateralTrade address\n",
    "web3.personal.unlockAccount(coinbase, 'hassan')\n",
    "Olidaughter_contract.transact({'from': coinbase}).setBilateralTrading(Olibilateral_address)\n"
   ]
  },
  {
   "cell_type": "code",
   "execution_count": null,
   "metadata": {
    "collapsed": true
   },
   "outputs": [],
   "source": [
    "#########Dynamic Grid Fee#######\n",
    "#set oli origin Address\n",
    "web3.personal.unlockAccount(coinbase, 'hassan')\n",
    "DynamicGridFee_contract.transact({'from': coinbase}).setOliOrigin(Oliorigin_address)"
   ]
  },
  {
   "cell_type": "code",
   "execution_count": null,
   "metadata": {
    "collapsed": true
   },
   "outputs": [],
   "source": [
    "###Set Min/Max Grid Fee###\n",
    "web3.personal.unlockAccount(coinbase, 'hassan')\n",
    "DynamicGridFee_contract.transact({'from': coinbase}).set_minmaxgfee(account_21, [4,6,1,3])"
   ]
  },
  {
   "cell_type": "code",
   "execution_count": null,
   "metadata": {
    "collapsed": true
   },
   "outputs": [],
   "source": [
    "###BILATERAL TRADE####\n",
    "\n",
    "web3.personal.unlockAccount(account_5, 'hassan')\n",
    "Olibilateral_contract.transact({'from': account_5}).regStock(5, 5, 108000, 240)\n",
    "time.sleep(30)\n",
    "\n",
    "web3.personal.unlockAccount(account_6, 'hassan')\n",
    "Olibilateral_contract.transact({'from': account_6}).stockBidding(account_5, 7)\n",
    "time.sleep(30)\n",
    "\n",
    "web3.personal.unlockAccount(account_7, 'hassan')\n",
    "Olibilateral_contract.transact({'from': account_7}).stockBidding(account_5, 8)\n",
    "time.sleep(30)\n",
    "\n",
    "web3.personal.unlockAccount(account_8, 'hassan')\n",
    "Olibilateral_contract.transact({'from': account_8}).stockBidding(account_5, 9)\n",
    "time.sleep(30)\n"
   ]
  },
  {
   "cell_type": "markdown",
   "metadata": {},
   "source": [
    "START THIS ANEW WHEN YOU WANT TO FEED THE SMART CONTRACTS WITH BIDS"
   ]
  },
  {
   "cell_type": "code",
   "execution_count": null,
   "metadata": {
    "collapsed": true,
    "scrolled": true
   },
   "outputs": [],
   "source": [
    "#OLIDaughterAuction1 bid\n",
    "run = 1\n",
    "while run == 1:\n",
    "    web3.personal.unlockAccount(account_1, 'hassan')\n",
    "    Olidaughter_contract.transact({'from': account_1}).bid(random.randint(50,625), 3)\n",
    "\n",
    "    web3.personal.unlockAccount(account_2, 'hassan')\n",
    "    Olidaughter_contract.transact({'from': account_2}).bid(random.randint(100,105), 10)\n",
    "\n",
    "    web3.personal.unlockAccount(account_3, 'hassan')\n",
    "    Olidaughter_contract.transact({'from': account_3}).bid(random.randint(50,55), 13)\n",
    "\n",
    "    web3.personal.unlockAccount(account_4, 'hassan')\n",
    "    Olidaughter_contract.transact({'from': account_4}).bid(random.randint(200,205), 14)\n",
    "\n",
    "    web3.personal.unlockAccount(account_5, 'hassan')\n",
    "    Olidaughter_contract.transact({'from': account_5}).bid(random.randint(155,160), 15)\n",
    "\n",
    "    #    time.sleep(15)\n",
    "\n",
    "    web3.personal.unlockAccount(account_6, 'hassan')\n",
    "    Olidaughter_contract.transact({'from': account_6}).bid(random.randint(100,105), 9)\n",
    "\n",
    "    web3.personal.unlockAccount(account_7, 'hassan')\n",
    "    Olidaughter_contract.transact({'from': account_7}).bid(random.randint(150,155), 10)\n",
    "\n",
    "    web3.personal.unlockAccount(account_8, 'hassan')\n",
    "    Olidaughter_contract.transact({'from': account_8}).bid(random.randint(200,255), 12)\n",
    "\n",
    "    web3.personal.unlockAccount(account_9, 'hassan')\n",
    "    Olidaughter_contract.transact({'from': account_9}).bid(random.randint(100,105), 13)\n",
    "\n",
    "    web3.personal.unlockAccount(account_10, 'hassan')\n",
    "    Olidaughter_contract.transact({'from': account_10}).bid(random.randint(300,305), 14)\n",
    "\n",
    "    time.sleep(30)\n",
    "    \n",
    "    #MCP\n",
    "    web3.personal.unlockAccount(account_9, 'hassan')\n",
    "    Olidaughter_contract.transact({'from': account_9}).breakEven()    \n",
    "    time.sleep(30)\n",
    "    web3.personal.unlockAccount(account_10, 'hassan')\n",
    "    Olidaughter_contract.transact({'from': account_10}).resett()    \n",
    "    time.sleep(30)\n"
   ]
  },
  {
   "cell_type": "code",
   "execution_count": null,
   "metadata": {
    "collapsed": true
   },
   "outputs": [],
   "source": []
  }
 ],
 "metadata": {
  "kernelspec": {
   "display_name": "Python 3",
   "language": "python",
   "name": "python3"
  },
  "language_info": {
   "codemirror_mode": {
    "name": "ipython",
    "version": 3
   },
   "file_extension": ".py",
   "mimetype": "text/x-python",
   "name": "python",
   "nbconvert_exporter": "python",
   "pygments_lexer": "ipython3",
   "version": "3.6.2"
  }
 },
 "nbformat": 4,
 "nbformat_minor": 2
}
